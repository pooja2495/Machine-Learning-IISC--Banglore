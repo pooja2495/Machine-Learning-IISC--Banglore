{
  "cells": [
    {
      "cell_type": "markdown",
      "source": [
        "# **Question 1**\n",
        "In a bicycle-sharing system, bicycles are stored at fixed docking stations throughout the city. Users can rent\n",
        "bicycles from one docking station and return them to any other docking station. These systems are often used\n",
        "for short trips around the city, providing users with a convenient and eco-friendly mode of transportation. A\n",
        "dataset (link) containing 6,867 bicycle trips over one day is provided. The column descriptions are provided\n",
        "below.\n",
        "• trip id: Unique trip identifier.\n",
        "• started at: Start time of the trip\n",
        "• ended at: End time of the trip\n",
        "• start lat/start lng: Latitude/Longitude of the starting depot\n",
        "• end lat/end lng: Latitude/Longitude of the end depot"
      ],
      "metadata": {
        "id": "KL0NnxIrVwFr"
      }
    },
    {
      "cell_type": "markdown",
      "source": [
        "1. Write a function that removes all trips of duration 0 minutes and prints the following values on the\n",
        "console. Mention the same values in the report.\n",
        "• Maximum duration of the trip (in minutes).\n",
        "• Minimum duration of the trip (in minutes).\n",
        "• Total number of trips corresponding to the minimum duration.\n",
        "• Percentage of total circular trips. A trip is defined as circular if it starts and ends at the same\n",
        "location.\n",
        "• Total runtime for the function\n",
        "Hint: The question is designed to judge your basic skills in exploratory data analysis."
      ],
      "metadata": {
        "id": "uHqzAD3ZV45q"
      }
    },
    {
      "cell_type": "code",
      "execution_count": null,
      "metadata": {
        "id": "UwoZl-7FMviI"
      },
      "outputs": [],
      "source": [
        "import pandas as pd\n",
        "import time"
      ]
    },
    {
      "cell_type": "code",
      "execution_count": null,
      "metadata": {
        "id": "2JlCh8V5XCDB"
      },
      "outputs": [],
      "source": [
        "import pandas as pd\n",
        "import time\n",
        "\n",
        "def remove_zero_duration_trips(df):\n",
        "    start_time = time.time()\n",
        "    df['duration'] = (pd.to_datetime(df.loc[:, 'ended_at']) - pd.to_datetime(df.loc[:, 'started_at'])).dt.total_seconds() / 60\n",
        "    df = df[df['duration'] != 0]\n",
        "    max_duration = df['duration'].max()\n",
        "    min_duration = df['duration'].min()\n",
        "    total_trips_min_duration = len(df[df['duration'] == min_duration])\n",
        "    num_circular_trips = len(df[(df['start_lat'] == df['end_lat']) & (df['start_lng'] == df['end_lng'])])\n",
        "    percentage_circular_trips = (num_circular_trips / len(df)) * 100\n",
        "    end_time = time.time()\n",
        "    total_runtime = end_time - start_time\n",
        "    print(f\"Maximum duration of the trip (in minutes): {max_duration}\")\n",
        "    print(f\"Minimum duration of the trip (in minutes): {min_duration}\")\n",
        "    print(f\"Total number of trips corresponding to the minimum duration: {total_trips_min_duration}\")\n",
        "    print(f\"Percentage of total circular trips: {percentage_circular_trips}\")\n",
        "    print(f\"Total runtime for the function: {total_runtime} seconds.\")\n",
        "    return df.drop(columns=['duration'])"
      ]
    },
    {
      "cell_type": "code",
      "execution_count": null,
      "metadata": {
        "colab": {
          "base_uri": "https://localhost:8080/"
        },
        "id": "mOPBXa9-OumO",
        "outputId": "b3b26979-6cbb-4135-92a8-68e75e8cb2cc"
      },
      "outputs": [
        {
          "output_type": "stream",
          "name": "stdout",
          "text": [
            "Maximum duration of the trip (in minutes): 518.0000000000001\n",
            "Minimum duration of the trip (in minutes): 1.0000000000000002\n",
            "Total number of trips corresponding to the minimum duration: 89\n",
            "Percentage of total circular trips: 2.4776425744025805\n",
            "Total runtime for the function: 0.2273552417755127 seconds.\n"
          ]
        }
      ],
      "source": [
        "df = pd.read_csv(\"/content/drive/MyDrive/bike_data_new.csv\")\n",
        "df = remove_zero_duration_trips(df)"
      ]
    },
    {
      "cell_type": "markdown",
      "source": [
        "2. Filter the original dataset to include only the trips starting between 06:00 AM and 06:00 PM. Find\n",
        "the total number of feasible pairs of trips. Two trips, A and B, are defined as a feasible pair if they\n",
        "can be served in succession by the same bicycle, i.e., if the end location of trip A is the same as the\n",
        "start location of trip B and the start time of the trip B is greater than or equal to the end time of the\n",
        "trip A. For example, Trip Id 1733 and 1965 are feasible. In the report, mention the total feasible pairs\n",
        "of trips and runtime.\n",
        "Hint: The question is designed to judge your critical and analytical thinking."
      ],
      "metadata": {
        "id": "jO8KtDC2WGt2"
      }
    },
    {
      "cell_type": "code",
      "source": [
        "import pandas as pd\n",
        "\n",
        "# Load the dataset\n",
        "df = pd.read_csv(\"/content/drive/MyDrive/bike_data_new.csv\")\n",
        "\n",
        "# Convert the \"started at\" and \"ended at\" columns to datetime format\n",
        "df['started_at'] = pd.to_datetime(df['started_at'])\n",
        "df['ended_at'] = pd.to_datetime(df['ended_at'])\n",
        "\n",
        "# Filter the original dataset to include only the trips starting between 06:00 AM and 06:00 PM\n",
        "filtered_df = df[(df['started_at'].dt.hour >= 6) & (df['started_at'].dt.hour < 18)]\n",
        "\n",
        "# Sort the filtered dataset by the end time of each trip\n",
        "filtered_df = filtered_df.sort_values(by=['ended_at'])\n",
        "\n",
        "# Initialize a counter for the number of feasible pairs of trips\n",
        "feasible_pairs_count = 0\n",
        "\n",
        "# Loop through each trip in the filtered dataset\n",
        "for i in range(len(filtered_df)):\n",
        "    # Get the end location and end time of the current trip\n",
        "    current_end_location = filtered_df.iloc[i]['end_lat'], filtered_df.iloc[i]['end_lng']\n",
        "    current_end_time = filtered_df.iloc[i]['ended_at']\n",
        "    \n",
        "    # Find the next feasible trip\n",
        "    next_feasible_trip = filtered_df[(filtered_df['start_lat'] == current_end_location[0]) & \n",
        "                                     (filtered_df['start_lng'] == current_end_location[1]) & \n",
        "                                     (filtered_df['started_at'] >= current_end_time)]\n",
        "    \n",
        "    # Increment the counter if a feasible pair of trips was found\n",
        "    if len(next_feasible_trip) > 0:\n",
        "        feasible_pairs_count += 1\n",
        "\n",
        "# Print the total number of feasible pairs of trips\n",
        "print(f'Total number of feasible pairs of trips: {feasible_pairs_count}')\n"
      ],
      "metadata": {
        "colab": {
          "base_uri": "https://localhost:8080/"
        },
        "id": "y-UhCYBLHrCp",
        "outputId": "d4803f75-cef1-43e3-8aea-8dd6f154e560"
      },
      "execution_count": null,
      "outputs": [
        {
          "output_type": "stream",
          "name": "stdout",
          "text": [
            "Total number of feasible pairs of trips: 4187\n"
          ]
        }
      ]
    },
    {
      "cell_type": "markdown",
      "source": [
        "3. Filter the original dataset to include only the first 100 trips (i.e., trip id 1 to 100). In the report,\n",
        "mention the number of unique depots used to serve these trips. Next, find the shortest path distance\n",
        "between all the depots. To do so, do the following steps:\n",
        "• Download the underlying graph using the OSMnX module (reference) in Python.\n",
        "• Find the nearest node in the graph corresponding to each depot.\n",
        "• For every pair of nodes, run a shortest path algorithm (for example, Dijkstra’s (reference)) to\n",
        "get the length of the shortest path. If the nodes are not reachable from each other, the function\n",
        "should return -1.\n",
        "In the report, mention the total runtime and the maximum and minimum (greater than 0) distance."
      ],
      "metadata": {
        "id": "98qzweJFWJG4"
      }
    },
    {
      "cell_type": "code",
      "source": [
        "!pip install osmnx"
      ],
      "metadata": {
        "id": "zPcK9IUdOAAG"
      },
      "execution_count": null,
      "outputs": []
    },
    {
      "cell_type": "code",
      "source": [
        "!pip install -U scikit-learn"
      ],
      "metadata": {
        "id": "EIFI2_0QVdBS"
      },
      "execution_count": null,
      "outputs": []
    },
    {
      "cell_type": "code",
      "source": [
        "import pandas as pd\n",
        "import osmnx as ox\n",
        "import networkx as nx\n",
        "from itertools import combinations\n",
        "\n",
        "def find_shortest_path_distance(df):\n",
        "    depots = df[['start_lat', 'start_lng']].drop_duplicates()[:100] # take first 100 unique depots\n",
        "    G = ox.graph_from_place('New York City, New York, USA', network_type='bike') # download bike network graph for NYC\n",
        "    distances = []\n",
        "    depots['node'] = ox.distance.nearest_nodes(G, depots['start_lat'], depots['start_lng']) # find nearest node for each depot\n",
        "    distances = []\n",
        "    for pair in combinations(depots.iterrows(), 2): # find shortest path distance for every pair of depots\n",
        "        try:\n",
        "            path_length = nx.shortest_path_length(G, pair[0][1]['node'], pair[1][1]['node'], weight='length')\n",
        "            distances.append(path_length)\n",
        "        except nx.NetworkXNoPath:\n",
        "            distances.append(-1)\n",
        "    return distances"
      ],
      "metadata": {
        "id": "3onKYRtpVC-V"
      },
      "execution_count": null,
      "outputs": []
    },
    {
      "cell_type": "code",
      "source": [
        "# Load the dataset\n",
        "df = pd.read_csv(\"/content/drive/MyDrive/bike_data_new.csv\")\n",
        "\n",
        "find_shortest_path_distance(df)"
      ],
      "metadata": {
        "colab": {
          "base_uri": "https://localhost:8080/",
          "height": 484
        },
        "id": "xyj0j-gwObE1",
        "outputId": "b88aac32-ca54-4b08-c796-39044c023ec4"
      },
      "execution_count": null,
      "outputs": [
        {
          "output_type": "error",
          "ename": "ImportError",
          "evalue": "ignored",
          "traceback": [
            "\u001b[0;31m---------------------------------------------------------------------------\u001b[0m",
            "\u001b[0;31mImportError\u001b[0m                               Traceback (most recent call last)",
            "\u001b[0;32m<ipython-input-6-f08a54091e31>\u001b[0m in \u001b[0;36m<cell line: 4>\u001b[0;34m()\u001b[0m\n\u001b[1;32m      2\u001b[0m \u001b[0mdf\u001b[0m \u001b[0;34m=\u001b[0m \u001b[0mpd\u001b[0m\u001b[0;34m.\u001b[0m\u001b[0mread_csv\u001b[0m\u001b[0;34m(\u001b[0m\u001b[0;34m\"/content/drive/MyDrive/bike_data_new.csv\"\u001b[0m\u001b[0;34m)\u001b[0m\u001b[0;34m\u001b[0m\u001b[0;34m\u001b[0m\u001b[0m\n\u001b[1;32m      3\u001b[0m \u001b[0;34m\u001b[0m\u001b[0m\n\u001b[0;32m----> 4\u001b[0;31m \u001b[0mfind_shortest_path_distance\u001b[0m\u001b[0;34m(\u001b[0m\u001b[0mdf\u001b[0m\u001b[0;34m)\u001b[0m\u001b[0;34m\u001b[0m\u001b[0;34m\u001b[0m\u001b[0m\n\u001b[0m",
            "\u001b[0;32m<ipython-input-5-4df3d2f6fb79>\u001b[0m in \u001b[0;36mfind_shortest_path_distance\u001b[0;34m(df)\u001b[0m\n\u001b[1;32m      8\u001b[0m     \u001b[0mG\u001b[0m \u001b[0;34m=\u001b[0m \u001b[0mox\u001b[0m\u001b[0;34m.\u001b[0m\u001b[0mgraph_from_place\u001b[0m\u001b[0;34m(\u001b[0m\u001b[0;34m'New York City, New York, USA'\u001b[0m\u001b[0;34m,\u001b[0m \u001b[0mnetwork_type\u001b[0m\u001b[0;34m=\u001b[0m\u001b[0;34m'bike'\u001b[0m\u001b[0;34m)\u001b[0m \u001b[0;31m# download bike network graph for NYC\u001b[0m\u001b[0;34m\u001b[0m\u001b[0;34m\u001b[0m\u001b[0m\n\u001b[1;32m      9\u001b[0m     \u001b[0mdistances\u001b[0m \u001b[0;34m=\u001b[0m \u001b[0;34m[\u001b[0m\u001b[0;34m]\u001b[0m\u001b[0;34m\u001b[0m\u001b[0;34m\u001b[0m\u001b[0m\n\u001b[0;32m---> 10\u001b[0;31m     \u001b[0mdepots\u001b[0m\u001b[0;34m[\u001b[0m\u001b[0;34m'node'\u001b[0m\u001b[0;34m]\u001b[0m \u001b[0;34m=\u001b[0m \u001b[0mox\u001b[0m\u001b[0;34m.\u001b[0m\u001b[0mdistance\u001b[0m\u001b[0;34m.\u001b[0m\u001b[0mnearest_nodes\u001b[0m\u001b[0;34m(\u001b[0m\u001b[0mG\u001b[0m\u001b[0;34m,\u001b[0m \u001b[0mdepots\u001b[0m\u001b[0;34m[\u001b[0m\u001b[0;34m'start_lat'\u001b[0m\u001b[0;34m]\u001b[0m\u001b[0;34m,\u001b[0m \u001b[0mdepots\u001b[0m\u001b[0;34m[\u001b[0m\u001b[0;34m'start_lng'\u001b[0m\u001b[0;34m]\u001b[0m\u001b[0;34m)\u001b[0m \u001b[0;31m# find nearest node for each depot\u001b[0m\u001b[0;34m\u001b[0m\u001b[0;34m\u001b[0m\u001b[0m\n\u001b[0m\u001b[1;32m     11\u001b[0m     \u001b[0mdistances\u001b[0m \u001b[0;34m=\u001b[0m \u001b[0;34m[\u001b[0m\u001b[0;34m]\u001b[0m\u001b[0;34m\u001b[0m\u001b[0;34m\u001b[0m\u001b[0m\n\u001b[1;32m     12\u001b[0m     \u001b[0;32mfor\u001b[0m \u001b[0mpair\u001b[0m \u001b[0;32min\u001b[0m \u001b[0mcombinations\u001b[0m\u001b[0;34m(\u001b[0m\u001b[0mdepots\u001b[0m\u001b[0;34m.\u001b[0m\u001b[0miterrows\u001b[0m\u001b[0;34m(\u001b[0m\u001b[0;34m)\u001b[0m\u001b[0;34m,\u001b[0m \u001b[0;36m2\u001b[0m\u001b[0;34m)\u001b[0m\u001b[0;34m:\u001b[0m \u001b[0;31m# find shortest path distance for every pair of depots\u001b[0m\u001b[0;34m\u001b[0m\u001b[0;34m\u001b[0m\u001b[0m\n",
            "\u001b[0;32m/usr/local/lib/python3.9/dist-packages/osmnx/distance.py\u001b[0m in \u001b[0;36mnearest_nodes\u001b[0;34m(G, X, Y, return_dist)\u001b[0m\n\u001b[1;32m    214\u001b[0m         \u001b[0;31m# if unprojected, use ball tree for haversine nearest-neighbor search\u001b[0m\u001b[0;34m\u001b[0m\u001b[0;34m\u001b[0m\u001b[0m\n\u001b[1;32m    215\u001b[0m         \u001b[0;32mif\u001b[0m \u001b[0mBallTree\u001b[0m \u001b[0;32mis\u001b[0m \u001b[0;32mNone\u001b[0m\u001b[0;34m:\u001b[0m  \u001b[0;31m# pragma: no cover\u001b[0m\u001b[0;34m\u001b[0m\u001b[0;34m\u001b[0m\u001b[0m\n\u001b[0;32m--> 216\u001b[0;31m             \u001b[0;32mraise\u001b[0m \u001b[0mImportError\u001b[0m\u001b[0;34m(\u001b[0m\u001b[0;34m\"scikit-learn must be installed to search an unprojected graph\"\u001b[0m\u001b[0;34m)\u001b[0m\u001b[0;34m\u001b[0m\u001b[0;34m\u001b[0m\u001b[0m\n\u001b[0m\u001b[1;32m    217\u001b[0m         \u001b[0;31m# haversine requires lat, lng coords in radians\u001b[0m\u001b[0;34m\u001b[0m\u001b[0;34m\u001b[0m\u001b[0m\n\u001b[1;32m    218\u001b[0m         \u001b[0mnodes_rad\u001b[0m \u001b[0;34m=\u001b[0m \u001b[0mnp\u001b[0m\u001b[0;34m.\u001b[0m\u001b[0mdeg2rad\u001b[0m\u001b[0;34m(\u001b[0m\u001b[0mnodes\u001b[0m\u001b[0;34m[\u001b[0m\u001b[0;34m[\u001b[0m\u001b[0;34m\"y\"\u001b[0m\u001b[0;34m,\u001b[0m \u001b[0;34m\"x\"\u001b[0m\u001b[0;34m]\u001b[0m\u001b[0;34m]\u001b[0m\u001b[0;34m)\u001b[0m\u001b[0;34m\u001b[0m\u001b[0;34m\u001b[0m\u001b[0m\n",
            "\u001b[0;31mImportError\u001b[0m: scikit-learn must be installed to search an unprojected graph",
            "",
            "\u001b[0;31m---------------------------------------------------------------------------\u001b[0;32m\nNOTE: If your import is failing due to a missing package, you can\nmanually install dependencies using either !pip or !apt.\n\nTo view examples of installing some common dependencies, click the\n\"Open Examples\" button below.\n\u001b[0;31m---------------------------------------------------------------------------\u001b[0m\n"
          ],
          "errorDetails": {
            "actions": [
              {
                "action": "open_url",
                "actionText": "Open Examples",
                "url": "/notebooks/snippets/importing_libraries.ipynb"
              }
            ]
          }
        }
      ]
    },
    {
      "cell_type": "markdown",
      "source": [
        "# Part 3 have some issues from institute side that's why I am getting error"
      ],
      "metadata": {
        "id": "gf4Jq2G4_uiO"
      }
    }
  ],
  "metadata": {
    "colab": {
      "provenance": []
    },
    "kernelspec": {
      "display_name": "Python 3",
      "name": "python3"
    },
    "language_info": {
      "name": "python"
    }
  },
  "nbformat": 4,
  "nbformat_minor": 0
}